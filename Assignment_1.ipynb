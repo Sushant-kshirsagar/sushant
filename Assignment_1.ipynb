{
 "cells": [
  {
   "cell_type": "markdown",
   "id": "943ef504-3acd-42fe-89a3-f013cb46bb34",
   "metadata": {},
   "source": [
    "1. create two list from s given list where first list will contain all the odd numbersfrom the original list and the second will contain all the even numbers\n",
    "l=[1,2,3,4,5,6]"
   ]
  },
  {
   "cell_type": "code",
   "execution_count": 1,
   "id": "721caac6-3e22-47b5-af34-eb282dc8b447",
   "metadata": {},
   "outputs": [
    {
     "name": "stdout",
     "output_type": "stream",
     "text": [
      "Original list: [1, 2, 3, 4, 5, 6]\n",
      "Odd numbers: [1, 3, 5]\n",
      "Even numbers: [2, 4, 6]\n"
     ]
    }
   ],
   "source": [
    "l = [1, 2, 3, 4, 5, 6]\n",
    "\n",
    "\n",
    "odd_numbers = []\n",
    "even_numbers = []\n",
    "\n",
    "\n",
    "for num in l:\n",
    "    if num % 2 == 0:\n",
    "        even_numbers.append(num)\n",
    "    else:\n",
    "        odd_numbers.append(num)\n",
    "        \n",
    "print(\"Original list:\", l)\n",
    "print(\"Odd numbers:\", odd_numbers)\n",
    "print(\"Even numbers:\", even_numbers)\n"
   ]
  },
  {
   "cell_type": "markdown",
   "id": "59c02198-ecea-4a59-bc6d-b964680a3662",
   "metadata": {},
   "source": [
    "2. how to take list as input from user"
   ]
  },
  {
   "cell_type": "code",
   "execution_count": 3,
   "id": "39736e4c-b495-449d-9bd9-940e83b61345",
   "metadata": {},
   "outputs": [
    {
     "name": "stdin",
     "output_type": "stream",
     "text": [
      "Enter elements of the list separated by space:  1 2 3 4 5 6\n"
     ]
    },
    {
     "name": "stdout",
     "output_type": "stream",
     "text": [
      "Input list: [1, 2, 3, 4, 5, 6]\n"
     ]
    }
   ],
   "source": [
    "\n",
    "input_list = list(map(int, input(\"Enter elements of the list separated by space: \").split()))\n",
    "\n",
    "print(\"Input list:\", input_list)\n"
   ]
  },
  {
   "cell_type": "markdown",
   "id": "a5ab81f7-5c0c-4fb8-8f62-c1e78604bbc7",
   "metadata": {},
   "source": [
    "3. write the program to merg to list without using the + operator\n",
    "l1=[1,2,3,4]   l2=[5,6,7,8]"
   ]
  },
  {
   "cell_type": "code",
   "execution_count": 4,
   "id": "f831e9cb-f94f-43a9-9782-48f3eeee89fc",
   "metadata": {},
   "outputs": [
    {
     "name": "stdout",
     "output_type": "stream",
     "text": [
      "[1, 2, 3, 4, 5, 6, 7, 8]\n"
     ]
    }
   ],
   "source": [
    "l1 = [1, 2, 3, 4]\n",
    "l2 = [5, 6, 7, 8]\n",
    "\n",
    "l1.extend(l2)\n",
    "print(l1)\n"
   ]
  },
  {
   "cell_type": "markdown",
   "id": "2be21ab3-c009-42ac-830d-1a00cbfa7585",
   "metadata": {},
   "source": [
    "4. write a program to replace an item with a different item if found in the list l=[1,2,3,4,5,3], replace 3 with 300"
   ]
  },
  {
   "cell_type": "code",
   "execution_count": 5,
   "id": "7c00a49c-f262-497d-a348-25128455ad7a",
   "metadata": {},
   "outputs": [
    {
     "name": "stdout",
     "output_type": "stream",
     "text": [
      "Modified list: [1, 2, 300, 4, 5, 300]\n"
     ]
    }
   ],
   "source": [
    "l = [1, 2, 3, 4, 5, 3]\n",
    "item_to_replace = 3\n",
    "replacement_item = 300\n",
    "\n",
    "for i in range(len(l)):\n",
    "    if l[i] == item_to_replace:\n",
    "        l[i] = replacement_item\n",
    "\n",
    "print(\"Modified list:\", l)\n"
   ]
  },
  {
   "cell_type": "markdown",
   "id": "91c3143c-0b1f-4986-a138-9f355b67ee48",
   "metadata": {},
   "source": [
    "5. write a program that convert a 2d list into 1d list"
   ]
  },
  {
   "cell_type": "code",
   "execution_count": 6,
   "id": "94bcb62f-fb04-42d2-8266-6491dd34e40e",
   "metadata": {},
   "outputs": [
    {
     "name": "stdout",
     "output_type": "stream",
     "text": [
      "Original 2D list: [[1, 2, 3], [4, 5], [6, 7, 8, 9]]\n",
      "Converted 1D list: [1, 2, 3, 4, 5, 6, 7, 8, 9]\n"
     ]
    }
   ],
   "source": [
    "two_dim_list = [[1, 2, 3], [4, 5], [6, 7, 8, 9]]\n",
    "one_dim_list = []\n",
    "\n",
    "for sublist in two_dim_list:\n",
    "    one_dim_list.extend(sublist)\n",
    "\n",
    "print(\"Original 2D list:\", two_dim_list)\n",
    "print(\"Converted 1D list:\", one_dim_list)\n"
   ]
  },
  {
   "cell_type": "markdown",
   "id": "3abe13cb-fd6c-4160-89c7-ccc267291d91",
   "metadata": {},
   "source": [
    "6. write a program to remove duplicate item from a list l=[1,2,1,2,3,4,5,3,4]"
   ]
  },
  {
   "cell_type": "code",
   "execution_count": 7,
   "id": "4adad36f-e3c8-460e-9e5d-53d26af5d53d",
   "metadata": {},
   "outputs": [
    {
     "name": "stdout",
     "output_type": "stream",
     "text": [
      "Original list: [1, 2, 1, 2, 3, 4, 5, 3, 4]\n",
      "List with duplicates removed: [1, 2, 3, 4, 5]\n"
     ]
    }
   ],
   "source": [
    "l = [1, 2, 1, 2, 3, 4, 5, 3, 4]\n",
    "seen = set()\n",
    "unique_list = []\n",
    "\n",
    "for item in l:\n",
    "    if item not in seen:\n",
    "        unique_list.append(item)\n",
    "        seen.add(item)\n",
    "print(\"Original list:\", l)\n",
    "print(\"List with duplicates removed:\", unique_list)\n"
   ]
  },
  {
   "cell_type": "markdown",
   "id": "d959a0fe-b9bb-4295-9b8e-4c5eeaca11a8",
   "metadata": {},
   "source": [
    "7. write a program to check if a list is in ascending order or not"
   ]
  },
  {
   "cell_type": "code",
   "execution_count": 8,
   "id": "273f116a-b5d0-47c6-940d-8f1f20803510",
   "metadata": {},
   "outputs": [
    {
     "name": "stdout",
     "output_type": "stream",
     "text": [
      "List [1, 2, 3, 4, 5] is in ascending order: True\n",
      "List [1, 3, 2, 4, 5] is in ascending order: False\n"
     ]
    }
   ],
   "source": [
    "def is_ascending_order(lst):\n",
    "\n",
    "    if len(lst) <= 1:\n",
    "        return True\n",
    "    \n",
    "    \n",
    "    for i in range(len(lst) - 1):\n",
    "        if lst[i] > lst[i + 1]:\n",
    "            return False\n",
    "    \n",
    "    return True\n",
    "    \n",
    "l1 = [1, 2, 3, 4, 5]\n",
    "l2 = [1, 3, 2, 4, 5]\n",
    "\n",
    "\n",
    "print(f\"List {l1} is in ascending order:\", is_ascending_order(l1))\n",
    "print(f\"List {l2} is in ascending order:\", is_ascending_order(l2))\n"
   ]
  },
  {
   "cell_type": "code",
   "execution_count": null,
   "id": "bf74dc74-29f8-45eb-bca0-16b7e5cff9ba",
   "metadata": {},
   "outputs": [],
   "source": []
  }
 ],
 "metadata": {
  "kernelspec": {
   "display_name": "Python 3 (ipykernel)",
   "language": "python",
   "name": "python3"
  },
  "language_info": {
   "codemirror_mode": {
    "name": "ipython",
    "version": 3
   },
   "file_extension": ".py",
   "mimetype": "text/x-python",
   "name": "python",
   "nbconvert_exporter": "python",
   "pygments_lexer": "ipython3",
   "version": "3.11.7"
  }
 },
 "nbformat": 4,
 "nbformat_minor": 5
}
